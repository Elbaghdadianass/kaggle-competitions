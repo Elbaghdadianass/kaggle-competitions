{
 "cells": [
  {
   "cell_type": "markdown",
   "metadata": {},
   "source": [
    "# Digit Recognizer using a Convolutional Neural Network"
   ]
  },
  {
   "cell_type": "code",
   "execution_count": 29,
   "metadata": {},
   "outputs": [],
   "source": [
    "import matplotlib.pyplot as plt\n",
    "import numpy as np\n",
    "from keras.layers.normalization import BatchNormalization\n",
    "import pandas as pd\n",
    "import seaborn as sns\n",
    "%matplotlib inline\n",
    "# Read in the data.\n",
    "train = pd.read_csv(\"train.csv\")\n",
    "test = pd.read_csv(\"test.csv\")"
   ]
  },
  {
   "cell_type": "code",
   "execution_count": 31,
   "metadata": {},
   "outputs": [],
   "source": [
    "from keras.models import Sequential\n",
    "from keras.utils import np_utils\n",
    "from keras.layers.core import Dense, Activation, Dropout, Flatten\n",
    "from keras.layers.convolutional import Conv2D , MaxPooling2D\n",
    "\n",
    "labels = train.label.values.astype('int32')\n",
    "x_train = train.iloc[:,1:].values.astype('float32')\n",
    "x_test = test.values.astype('float32')\n",
    "\n",
    "# convert list of labels to binary class matrix\n",
    "y_train = np_utils.to_categorical(labels)\n",
    "# reshape the training and test data to feed the neural network\n",
    "x_train = x_train.reshape(x_train.shape[0], 28, 28,1)\n",
    "x_test = x_test.reshape(x_test.shape[0], 28, 28,1)"
   ]
  },
  {
   "cell_type": "code",
   "execution_count": 32,
   "metadata": {},
   "outputs": [],
   "source": [
    "# pre-processing: divide by max \n",
    "scale = np.max(x_train)\n",
    "x_train /= scale\n",
    "x_test /= scale"
   ]
  },
  {
   "cell_type": "code",
   "execution_count": 34,
   "metadata": {},
   "outputs": [],
   "source": [
    "from keras.layers import MaxPool2D\n",
    "#Initialize the model with four convolutional layers and a pooling layer between each two convolutional layers \n",
    "# to reduce spatial data\n",
    "model = Sequential()\n",
    "\n",
    "# Add an input layer \n",
    "model.add(Conv2D(filters = 32, kernel_size = (4,4),padding = 'Same', \n",
    "                 activation ='relu', input_shape = (28,28,1)))\n",
    "model.add(Conv2D(filters = 32, kernel_size = (4,4),padding = 'Same', \n",
    "                 activation ='relu'))\n",
    "model.add(MaxPool2D(pool_size=(2,2)))\n",
    "\n",
    "\n",
    "model.add(Conv2D(filters = 64, kernel_size = (3,3),padding = 'Same', \n",
    "                 activation ='relu'))\n",
    "model.add(Conv2D(filters = 64, kernel_size = (3,3),padding = 'Same', \n",
    "                 activation ='relu'))\n",
    "model.add(MaxPool2D(pool_size=(2,2), strides=(2,2)))\n",
    "\n",
    "\n",
    "model.add(Flatten())\n",
    "model.add(Dense(256, activation = \"relu\"))\n",
    "model.add(Dropout(0.5))\n",
    "model.add(Dense(10, activation = \"softmax\"))"
   ]
  },
  {
   "cell_type": "code",
   "execution_count": 37,
   "metadata": {},
   "outputs": [],
   "source": [
    "# Compile the model\n",
    "model.compile(loss='categorical_crossentropy',\n",
    "              optimizer='adam', \n",
    "              metrics=['accuracy'])"
   ]
  },
  {
   "cell_type": "code",
   "execution_count": 36,
   "metadata": {},
   "outputs": [],
   "source": [
    "from keras.preprocessing.image import ImageDataGenerator\n",
    "#generate more images\n",
    "gen = ImageDataGenerator(rotation_range=10, \n",
    "                               width_shift_range=0.10, \n",
    "                               shear_range=0.5,\n",
    "                               height_shift_range=0.10, \n",
    "                               zoom_range=0.10\n",
    "                              )"
   ]
  },
  {
   "cell_type": "code",
   "execution_count": 38,
   "metadata": {},
   "outputs": [
    {
     "name": "stdout",
     "output_type": "stream",
     "text": [
      "Epoch 1/15\n",
      "1312/1312 [==============================] - 18s 13ms/step - loss: 0.3217 - acc: 0.8976\n",
      "Epoch 2/15\n",
      "1312/1312 [==============================] - 17s 13ms/step - loss: 0.1177 - acc: 0.9651\n",
      "Epoch 3/15\n",
      "1312/1312 [==============================] - 17s 13ms/step - loss: 0.0931 - acc: 0.9724\n",
      "Epoch 4/15\n",
      "1312/1312 [==============================] - 21s 16ms/step - loss: 0.0782 - acc: 0.9766\n",
      "Epoch 5/15\n",
      "1312/1312 [==============================] - 24s 18ms/step - loss: 0.0682 - acc: 0.9804\n",
      "Epoch 6/15\n",
      "1312/1312 [==============================] - 23s 18ms/step - loss: 0.0610 - acc: 0.9824\n",
      "Epoch 7/15\n",
      "1312/1312 [==============================] - 23s 18ms/step - loss: 0.0585 - acc: 0.9832\n",
      "Epoch 8/15\n",
      "1312/1312 [==============================] - 23s 17ms/step - loss: 0.0560 - acc: 0.9837\n",
      "Epoch 9/15\n",
      "1312/1312 [==============================] - 23s 18ms/step - loss: 0.0520 - acc: 0.9840\n",
      "Epoch 10/15\n",
      "1312/1312 [==============================] - 24s 18ms/step - loss: 0.0510 - acc: 0.9854\n",
      "Epoch 11/15\n",
      "1312/1312 [==============================] - 23s 18ms/step - loss: 0.0486 - acc: 0.9856\n",
      "Epoch 12/15\n",
      "1312/1312 [==============================] - 23s 18ms/step - loss: 0.0467 - acc: 0.9863\n",
      "Epoch 13/15\n",
      "1312/1312 [==============================] - 23s 17ms/step - loss: 0.0449 - acc: 0.9866\n",
      "Epoch 14/15\n",
      "1312/1312 [==============================] - 26s 20ms/step - loss: 0.0449 - acc: 0.9869\n",
      "Epoch 15/15\n",
      "1312/1312 [==============================] - 24s 19ms/step - loss: 0.0421 - acc: 0.9878\n"
     ]
    }
   ],
   "source": [
    "# Fit the model on the generated Data\n",
    "history = model.fit_generator(gen.flow(x_train,y_train, batch_size=32),\n",
    "                              epochs = 15, verbose = 1, steps_per_epoch=x_train.shape[0] // 32\n",
    "                              )"
   ]
  },
  {
   "cell_type": "code",
   "execution_count": 40,
   "metadata": {},
   "outputs": [
    {
     "name": "stdout",
     "output_type": "stream",
     "text": [
      "Train on 37800 samples, validate on 4200 samples\n",
      "Epoch 1/5\n",
      "37800/37800 [==============================] - 34s 890us/step - loss: 0.0350 - acc: 0.9898 - val_loss: 0.0166 - val_acc: 0.9950\n",
      "Epoch 2/5\n",
      "37800/37800 [==============================] - 35s 920us/step - loss: 0.0328 - acc: 0.9901 - val_loss: 0.0128 - val_acc: 0.9952\n",
      "Epoch 3/5\n",
      "37800/37800 [==============================] - 36s 959us/step - loss: 0.0313 - acc: 0.9913 - val_loss: 0.0328 - val_acc: 0.9900\n",
      "Epoch 4/5\n",
      "37800/37800 [==============================] - 36s 943us/step - loss: 0.0301 - acc: 0.9908 - val_loss: 0.0265 - val_acc: 0.9926\n",
      "Epoch 5/5\n",
      "37800/37800 [==============================] - 36s 952us/step - loss: 0.0291 - acc: 0.9917 - val_loss: 0.0144 - val_acc: 0.9943\n"
     ]
    },
    {
     "data": {
      "text/plain": [
       "<keras.callbacks.History at 0x1f8cd86d780>"
      ]
     },
     "execution_count": 40,
     "metadata": {},
     "output_type": "execute_result"
    }
   ],
   "source": [
    "#fit the model wiht the real Data\n",
    "model.fit(x_train, y_train,epochs=5, batch_size=16,validation_split=0.1, verbose=1)"
   ]
  },
  {
   "cell_type": "code",
   "execution_count": 41,
   "metadata": {},
   "outputs": [],
   "source": [
    "# I got a pretty good results 0.994 on the kaggle competition\n",
    "y_pred = model.predict_classes(x_test)\n",
    "pd.DataFrame({'ImageId': range(1,28001), 'Label': y_pred}).to_csv('results.csv', index=False)"
   ]
  }
 ],
 "metadata": {
  "kernelspec": {
   "display_name": "Python 3",
   "language": "python",
   "name": "python3"
  },
  "language_info": {
   "codemirror_mode": {
    "name": "ipython",
    "version": 3
   },
   "file_extension": ".py",
   "mimetype": "text/x-python",
   "name": "python",
   "nbconvert_exporter": "python",
   "pygments_lexer": "ipython3",
   "version": "3.6.6"
  }
 },
 "nbformat": 4,
 "nbformat_minor": 2
}
